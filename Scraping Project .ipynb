{
 "cells": [
  {
   "cell_type": "code",
   "execution_count": 241,
   "id": "27f5c3aa",
   "metadata": {},
   "outputs": [],
   "source": [
    "import csv\n",
    "import pandas as pd\n",
    "import selenium\n",
    "from time import sleep\n",
    "from selenium.webdriver.common.keys import Keys\n",
    "from selenium.common.exceptions import NoSuchElementException\n",
    "from msedge.selenium_tools import Edge, EdgeOptions"
   ]
  },
  {
   "cell_type": "code",
   "execution_count": 330,
   "id": "adbd81d0",
   "metadata": {
    "scrolled": true
   },
   "outputs": [],
   "source": [
    "#options = EdgeOptions()\n",
    "#options.use_chromium = True\n",
    "#driver = Edge(options = options)\n",
    "#driver.set_window_size(1080,800)"
   ]
  },
  {
   "cell_type": "code",
   "execution_count": 331,
   "id": "efc6a8dd",
   "metadata": {},
   "outputs": [],
   "source": [
    "#driver.get(\"https://twitter.com/i/flow/login\")"
   ]
  },
  {
   "cell_type": "code",
   "execution_count": 313,
   "id": "cf0d33e5",
   "metadata": {},
   "outputs": [],
   "source": [
    "#username = driver.find_element(\"xpath\",'//input[@name=\"text\"]')\n",
    "#username.send_keys('mariemrecho@gmail.com')\n",
    "#username.send_keys(Keys.RETURN)"
   ]
  },
  {
   "cell_type": "code",
   "execution_count": 314,
   "id": "12034a48",
   "metadata": {},
   "outputs": [],
   "source": [
    "#driver.find_element(\"xpath\",\"//input[@data-testid='ocfEnterTextTextInput']\").send_keys(\"recho_mariem\")\n",
    "#driver.find_element(\"xpath\",\"//input[@data-testid='ocfEnterTextTextInput']\").send_keys(Keys.RETURN)"
   ]
  },
  {
   "cell_type": "code",
   "execution_count": 315,
   "id": "3fd0c598",
   "metadata": {},
   "outputs": [],
   "source": [
    "#password = driver.find_element(\"xpath\",\"//input[@name='password']\")\n",
    "#password.send_keys(\"M@riem0603\")\n",
    "#password.send_keys(Keys.RETURN)"
   ]
  },
  {
   "cell_type": "code",
   "execution_count": 224,
   "id": "e1156daa",
   "metadata": {},
   "outputs": [],
   "source": [
    "#search = driver.find_element(\"xpath\",\"//input[@aria-label='Requête de recherche']\")\n",
    "#search.send_keys('#WorldCup2022 #quarterfinal')\n",
    "#search.send_keys(Keys.RETURN)"
   ]
  },
  {
   "cell_type": "code",
   "execution_count": 225,
   "id": "09defeac",
   "metadata": {},
   "outputs": [],
   "source": [
    "#driver.find_element('link text','Récent').click()"
   ]
  },
  {
   "cell_type": "code",
   "execution_count": 228,
   "id": "41e18a4f",
   "metadata": {},
   "outputs": [],
   "source": [
    "#tweets = driver.find_elements(\"xpath\",'//article[@data-testid=\"tweet\"]')"
   ]
  },
  {
   "cell_type": "code",
   "execution_count": 229,
   "id": "8ed9fc72",
   "metadata": {
    "scrolled": true
   },
   "outputs": [
    {
     "name": "stdout",
     "output_type": "stream",
     "text": [
      "[<selenium.webdriver.remote.webelement.WebElement (session=\"922321ae61df873df57c8656abf61f2b\", element=\"eef365e2-c99f-4ad8-8147-08fb17a4925e\")>, <selenium.webdriver.remote.webelement.WebElement (session=\"922321ae61df873df57c8656abf61f2b\", element=\"e8d4c2d7-317d-4860-9bb7-545eed78eb05\")>, <selenium.webdriver.remote.webelement.WebElement (session=\"922321ae61df873df57c8656abf61f2b\", element=\"a15492ba-7c04-4f1f-a49e-c4787ee5db11\")>, <selenium.webdriver.remote.webelement.WebElement (session=\"922321ae61df873df57c8656abf61f2b\", element=\"49f8bb06-466e-423d-bbd0-f75644353c58\")>]\n"
     ]
    }
   ],
   "source": [
    "#print(tweets)"
   ]
  },
  {
   "cell_type": "code",
   "execution_count": 230,
   "id": "916a40e6",
   "metadata": {},
   "outputs": [
    {
     "data": {
      "text/plain": [
       "4"
      ]
     },
     "execution_count": 230,
     "metadata": {},
     "output_type": "execute_result"
    }
   ],
   "source": [
    "#len(tweets)"
   ]
  },
  {
   "cell_type": "code",
   "execution_count": 231,
   "id": "3f76c8c3",
   "metadata": {},
   "outputs": [],
   "source": [
    "#tweet = tweets[0]"
   ]
  },
  {
   "cell_type": "code",
   "execution_count": 332,
   "id": "e9181cb5",
   "metadata": {},
   "outputs": [],
   "source": [
    "#username\n",
    "#tweet.find_element(\"xpath\",\"./div/div/div/div[2]/div[2]/div[1]//span/span\").text\n",
    "def get_username(tweet):\n",
    "    try :\n",
    "        return tweet.find_element(\"xpath\",\".//span/span\").text\n",
    "    except NoSuchElementException :\n",
    "        return\n",
    "    except StaleElementReferenceException :\n",
    "        return\n",
    "#tweet.find_element(\"xpath\",\".//span/span\").text"
   ]
  },
  {
   "cell_type": "code",
   "execution_count": 333,
   "id": "7b0fca80",
   "metadata": {},
   "outputs": [],
   "source": [
    "#twitter handle\n",
    "def get_twitter_handle(tweet):\n",
    "    try :\n",
    "        return tweet.find_element(\"xpath\",'.//span[contains(text(),\"@\")]').text\n",
    "    except NoSuchElementException :\n",
    "        return\n",
    "    except StaleElementReferenceException :\n",
    "        return\n",
    "#tweet.find_element(\"xpath\",'//span[contains(text(),\"@\")]').text"
   ]
  },
  {
   "cell_type": "code",
   "execution_count": 173,
   "id": "7f15c286",
   "metadata": {},
   "outputs": [
    {
     "data": {
      "text/plain": [
       "'2022-12-17T05:33:39.000Z'"
      ]
     },
     "execution_count": 173,
     "metadata": {},
     "output_type": "execute_result"
    }
   ],
   "source": [
    "#tweet.find_element(\"xpath\",\".//time\").get_attribute('datetime')"
   ]
  },
  {
   "cell_type": "code",
   "execution_count": 334,
   "id": "4f07b6c3",
   "metadata": {},
   "outputs": [],
   "source": [
    "#tweet_text=tweet.find_elements(\"xpath\",\".//div[@data-testid='tweetText']/span[@class='r-18u37iz']\")\n",
    "#for text in tweet_text :\n",
    "#    print (text.text)"
   ]
  },
  {
   "cell_type": "code",
   "execution_count": 300,
   "id": "5363f2fd",
   "metadata": {},
   "outputs": [],
   "source": [
    "def show_hashtags(tweet):\n",
    "    tweet_text=tweet.find_elements(\"xpath\",\".//div[@data-testid='tweetText']/span[@class='r-18u37iz']\")\n",
    "    hashtags = []\n",
    "    for text in tweet_text :\n",
    "        hashtags.append(text.text)\n",
    "    return(hashtags)"
   ]
  },
  {
   "cell_type": "code",
   "execution_count": 335,
   "id": "f2970fc5",
   "metadata": {},
   "outputs": [],
   "source": [
    "#for i in tweets :\n",
    "#    print(show_hashtags(i))"
   ]
  },
  {
   "cell_type": "code",
   "execution_count": 336,
   "id": "847ac7dc",
   "metadata": {},
   "outputs": [],
   "source": [
    "#print(tweet)"
   ]
  },
  {
   "cell_type": "code",
   "execution_count": 337,
   "id": "0c8210dc",
   "metadata": {
    "scrolled": false
   },
   "outputs": [],
   "source": [
    "#print(tweet.find_element(\"xpath\",'.//div[@data-testid=\"reply\"]').text)\n",
    "#print(tweet.find_element(\"xpath\",'.//div[@data-testid=\"retweet\"]').text)\n",
    "#print(tweet.find_element(\"xpath\",'.//div[@data-testid=\"like\"]').text)"
   ]
  },
  {
   "cell_type": "code",
   "execution_count": 202,
   "id": "3b952345",
   "metadata": {},
   "outputs": [],
   "source": [
    "def get_comments_number(tweet):\n",
    "    return (tweet.find_element(\"xpath\",'.//div[@data-testid=\"reply\"]').text)\n",
    "def get_retweets_number(tweet):\n",
    "    return (tweet.find_element(\"xpath\",'.//div[@data-testid=\"retweet\"]').text)\n",
    "def get_likes_number(tweet):\n",
    "    return (tweet.find_element(\"xpath\",'.//div[@data-testid=\"like\"]').text)"
   ]
  },
  {
   "cell_type": "code",
   "execution_count": 180,
   "id": "c3486759",
   "metadata": {},
   "outputs": [
    {
     "name": "stdout",
     "output_type": "stream",
     "text": [
      "23\n",
      "21\n",
      "17\n"
     ]
    }
   ],
   "source": [
    "#print(get_comments_number(tweet))\n",
    "#print(get_retweets_number(tweet))\n",
    "#print(get_likes_number(tweet))"
   ]
  },
  {
   "cell_type": "code",
   "execution_count": 181,
   "id": "d642089b",
   "metadata": {},
   "outputs": [],
   "source": [
    "#driver.execute_script(\"window.scrollTo(0,document.body.scrollHeight);\")"
   ]
  },
  {
   "cell_type": "code",
   "execution_count": 338,
   "id": "b8a45908",
   "metadata": {},
   "outputs": [],
   "source": [
    "def get_twitter_data(tweet):\n",
    "    return [get_username(tweet),get_twitter_handle(tweet),show_hashtags(tweet),get_comments_number(tweet),get_retweets_number(tweet),get_likes_number(tweet)]\n",
    "#print(get_twitter_data(tweet))"
   ]
  },
  {
   "cell_type": "code",
   "execution_count": 327,
   "id": "498abe50",
   "metadata": {},
   "outputs": [
    {
     "name": "stderr",
     "output_type": "stream",
     "text": [
      "C:\\Users\\Admin\\AppData\\Local\\Temp\\ipykernel_12088\\356985551.py:3: DeprecationWarning: Selenium Tools for Microsoft Edge is deprecated. Please upgrade to Selenium 4 which has built-in support for Microsoft Edge (Chromium): https://docs.microsoft.com/en-us/microsoft-edge/webdriver-chromium/#upgrading-from-selenium-3\n",
      "  driver = Edge(options = options)\n"
     ]
    },
    {
     "ename": "NameError",
     "evalue": "name 'StaleElementReferenceException' is not defined",
     "output_type": "error",
     "traceback": [
      "\u001b[1;31m---------------------------------------------------------------------------\u001b[0m",
      "\u001b[1;31mStaleElementReferenceException\u001b[0m            Traceback (most recent call last)",
      "Input \u001b[1;32mIn [325]\u001b[0m, in \u001b[0;36mget_username\u001b[1;34m(tweet)\u001b[0m\n\u001b[0;32m      4\u001b[0m \u001b[38;5;28;01mtry\u001b[39;00m :\n\u001b[1;32m----> 5\u001b[0m     \u001b[38;5;28;01mreturn\u001b[39;00m \u001b[43mtweet\u001b[49m\u001b[38;5;241;43m.\u001b[39;49m\u001b[43mfind_element\u001b[49m\u001b[43m(\u001b[49m\u001b[38;5;124;43m\"\u001b[39;49m\u001b[38;5;124;43mxpath\u001b[39;49m\u001b[38;5;124;43m\"\u001b[39;49m\u001b[43m,\u001b[49m\u001b[38;5;124;43m\"\u001b[39;49m\u001b[38;5;124;43m.//span/span\u001b[39;49m\u001b[38;5;124;43m\"\u001b[39;49m\u001b[43m)\u001b[49m\u001b[38;5;241m.\u001b[39mtext\n\u001b[0;32m      6\u001b[0m \u001b[38;5;28;01mexcept\u001b[39;00m NoSuchElementException :\n",
      "File \u001b[1;32m~\\anaconda3\\lib\\site-packages\\selenium\\webdriver\\remote\\webelement.py:419\u001b[0m, in \u001b[0;36mWebElement.find_element\u001b[1;34m(self, by, value)\u001b[0m\n\u001b[0;32m    417\u001b[0m     value \u001b[38;5;241m=\u001b[39m \u001b[38;5;124m'\u001b[39m\u001b[38;5;124m[name=\u001b[39m\u001b[38;5;124m\"\u001b[39m\u001b[38;5;132;01m%s\u001b[39;00m\u001b[38;5;124m\"\u001b[39m\u001b[38;5;124m]\u001b[39m\u001b[38;5;124m'\u001b[39m \u001b[38;5;241m%\u001b[39m value\n\u001b[1;32m--> 419\u001b[0m \u001b[38;5;28;01mreturn\u001b[39;00m \u001b[38;5;28;43mself\u001b[39;49m\u001b[38;5;241;43m.\u001b[39;49m\u001b[43m_execute\u001b[49m\u001b[43m(\u001b[49m\u001b[43mCommand\u001b[49m\u001b[38;5;241;43m.\u001b[39;49m\u001b[43mFIND_CHILD_ELEMENT\u001b[49m\u001b[43m,\u001b[49m\n\u001b[0;32m    420\u001b[0m \u001b[43m                     \u001b[49m\u001b[43m{\u001b[49m\u001b[38;5;124;43m\"\u001b[39;49m\u001b[38;5;124;43musing\u001b[39;49m\u001b[38;5;124;43m\"\u001b[39;49m\u001b[43m:\u001b[49m\u001b[43m \u001b[49m\u001b[43mby\u001b[49m\u001b[43m,\u001b[49m\u001b[43m \u001b[49m\u001b[38;5;124;43m\"\u001b[39;49m\u001b[38;5;124;43mvalue\u001b[39;49m\u001b[38;5;124;43m\"\u001b[39;49m\u001b[43m:\u001b[49m\u001b[43m \u001b[49m\u001b[43mvalue\u001b[49m\u001b[43m}\u001b[49m\u001b[43m)\u001b[49m[\u001b[38;5;124m'\u001b[39m\u001b[38;5;124mvalue\u001b[39m\u001b[38;5;124m'\u001b[39m]\n",
      "File \u001b[1;32m~\\anaconda3\\lib\\site-packages\\selenium\\webdriver\\remote\\webelement.py:396\u001b[0m, in \u001b[0;36mWebElement._execute\u001b[1;34m(self, command, params)\u001b[0m\n\u001b[0;32m    395\u001b[0m params[\u001b[38;5;124m'\u001b[39m\u001b[38;5;124mid\u001b[39m\u001b[38;5;124m'\u001b[39m] \u001b[38;5;241m=\u001b[39m \u001b[38;5;28mself\u001b[39m\u001b[38;5;241m.\u001b[39m_id\n\u001b[1;32m--> 396\u001b[0m \u001b[38;5;28;01mreturn\u001b[39;00m \u001b[38;5;28;43mself\u001b[39;49m\u001b[38;5;241;43m.\u001b[39;49m\u001b[43m_parent\u001b[49m\u001b[38;5;241;43m.\u001b[39;49m\u001b[43mexecute\u001b[49m\u001b[43m(\u001b[49m\u001b[43mcommand\u001b[49m\u001b[43m,\u001b[49m\u001b[43m \u001b[49m\u001b[43mparams\u001b[49m\u001b[43m)\u001b[49m\n",
      "File \u001b[1;32m~\\anaconda3\\lib\\site-packages\\selenium\\webdriver\\remote\\webdriver.py:428\u001b[0m, in \u001b[0;36mWebDriver.execute\u001b[1;34m(self, driver_command, params)\u001b[0m\n\u001b[0;32m    427\u001b[0m \u001b[38;5;28;01mif\u001b[39;00m response:\n\u001b[1;32m--> 428\u001b[0m     \u001b[38;5;28;43mself\u001b[39;49m\u001b[38;5;241;43m.\u001b[39;49m\u001b[43merror_handler\u001b[49m\u001b[38;5;241;43m.\u001b[39;49m\u001b[43mcheck_response\u001b[49m\u001b[43m(\u001b[49m\u001b[43mresponse\u001b[49m\u001b[43m)\u001b[49m\n\u001b[0;32m    429\u001b[0m     response[\u001b[38;5;124m'\u001b[39m\u001b[38;5;124mvalue\u001b[39m\u001b[38;5;124m'\u001b[39m] \u001b[38;5;241m=\u001b[39m \u001b[38;5;28mself\u001b[39m\u001b[38;5;241m.\u001b[39m_unwrap_value(\n\u001b[0;32m    430\u001b[0m         response\u001b[38;5;241m.\u001b[39mget(\u001b[38;5;124m'\u001b[39m\u001b[38;5;124mvalue\u001b[39m\u001b[38;5;124m'\u001b[39m, \u001b[38;5;28;01mNone\u001b[39;00m))\n",
      "File \u001b[1;32m~\\anaconda3\\lib\\site-packages\\selenium\\webdriver\\remote\\errorhandler.py:243\u001b[0m, in \u001b[0;36mErrorHandler.check_response\u001b[1;34m(self, response)\u001b[0m\n\u001b[0;32m    242\u001b[0m     \u001b[38;5;28;01mraise\u001b[39;00m exception_class(message, screen, stacktrace, alert_text)  \u001b[38;5;66;03m# type: ignore[call-arg]  # mypy is not smart enough here\u001b[39;00m\n\u001b[1;32m--> 243\u001b[0m \u001b[38;5;28;01mraise\u001b[39;00m exception_class(message, screen, stacktrace)\n",
      "\u001b[1;31mStaleElementReferenceException\u001b[0m: Message: stale element reference: element is not attached to the page document\n  (Session info: MicrosoftEdge=108.0.1462.54)\nStacktrace:\nBacktrace:\n\tMicrosoft::Applications::Events::EventProperties::SetProperty [0x00007FF76CDB91F2+14306]\n\tMicrosoft::Applications::Events::EventProperty::EventProperty [0x00007FF76CD409B2+842898]\n\t(No symbol) [0x00007FF76C9F1D90]\n\t(No symbol) [0x00007FF76C9F5CCC]\n\t(No symbol) [0x00007FF76C9F59DE]\n\t(No symbol) [0x00007FF76C9F5E30]\n\t(No symbol) [0x00007FF76CA3550E]\n\t(No symbol) [0x00007FF76CA35C10]\n\t(No symbol) [0x00007FF76CA283DC]\n\t(No symbol) [0x00007FF76CA55D6F]\n\t(No symbol) [0x00007FF76CA2836E]\n\t(No symbol) [0x00007FF76CA28241]\n\t(No symbol) [0x00007FF76CA56080]\n\t(No symbol) [0x00007FF76CA2836E]\n\t(No symbol) [0x00007FF76CA6F70C]\n\t(No symbol) [0x00007FF76CA55B03]\n\t(No symbol) [0x00007FF76CA273B8]\n\t(No symbol) [0x00007FF76CA2638E]\n\t(No symbol) [0x00007FF76CA27AE4]\n\tMicrosoft::Applications::Events::EventProperty::EventProperty [0x00007FF76CC8FDF8+119000]\n\tMicrosoft::Applications::Events::EventProperty::EventProperty [0x00007FF76CC7D4D6+42934]\n\tMicrosoft::Applications::Events::EventProperty::EventProperty [0x00007FF76CC806EC+55756]\n\t(No symbol) [0x00007FF76CAF7923]\n\tMicrosoft::Applications::Events::EventProperty::EventProperty [0x00007FF76CD4846A+874314]\n\tMicrosoft::Applications::Events::EventProperty::EventProperty [0x00007FF76CD4D564+895044]\n\tMicrosoft::Applications::Events::EventProperty::EventProperty [0x00007FF76CD4D6BC+895388]\n\tMicrosoft::Applications::Events::EventProperty::EventProperty [0x00007FF76CD567DE+932542]\n\tBaseThreadInitThunk [0x00007FFA48957614+20]\n\tRtlUserThreadStart [0x00007FFA491626A1+33]\n",
      "\nDuring handling of the above exception, another exception occurred:\n",
      "\u001b[1;31mNameError\u001b[0m                                 Traceback (most recent call last)",
      "Input \u001b[1;32mIn [327]\u001b[0m, in \u001b[0;36m<cell line: 29>\u001b[1;34m()\u001b[0m\n\u001b[0;32m     32\u001b[0m \u001b[38;5;28;01mfor\u001b[39;00m tweet \u001b[38;5;129;01min\u001b[39;00m tweets :\n\u001b[0;32m     33\u001b[0m     sleep(\u001b[38;5;241m3\u001b[39m)\n\u001b[1;32m---> 34\u001b[0m     tweet_data \u001b[38;5;241m=\u001b[39m \u001b[43mget_twitter_data\u001b[49m\u001b[43m(\u001b[49m\u001b[43mtweet\u001b[49m\u001b[43m)\u001b[49m\n\u001b[0;32m     35\u001b[0m     \u001b[38;5;28;01mif\u001b[39;00m tweet_data:\n\u001b[0;32m     36\u001b[0m         tweet_id \u001b[38;5;241m=\u001b[39m \u001b[38;5;124m'\u001b[39m\u001b[38;5;124m'\u001b[39m\u001b[38;5;241m.\u001b[39mjoin([tweet_data[\u001b[38;5;241m0\u001b[39m],tweet_data[\u001b[38;5;241m1\u001b[39m],tweet_data[\u001b[38;5;241m4\u001b[39m],tweet_data[\u001b[38;5;241m5\u001b[39m]])\n",
      "Input \u001b[1;32mIn [304]\u001b[0m, in \u001b[0;36mget_twitter_data\u001b[1;34m(tweet)\u001b[0m\n\u001b[0;32m      1\u001b[0m \u001b[38;5;28;01mdef\u001b[39;00m \u001b[38;5;21mget_twitter_data\u001b[39m(tweet):\n\u001b[1;32m----> 2\u001b[0m     \u001b[38;5;28;01mreturn\u001b[39;00m [\u001b[43mget_username\u001b[49m\u001b[43m(\u001b[49m\u001b[43mtweet\u001b[49m\u001b[43m)\u001b[49m,get_twitter_handle(tweet),show_hashtags(tweet),get_comments_number(tweet),get_retweets_number(tweet),get_likes_number(tweet)]\n",
      "Input \u001b[1;32mIn [325]\u001b[0m, in \u001b[0;36mget_username\u001b[1;34m(tweet)\u001b[0m\n\u001b[0;32m      6\u001b[0m \u001b[38;5;28;01mexcept\u001b[39;00m NoSuchElementException :\n\u001b[0;32m      7\u001b[0m     \u001b[38;5;28;01mreturn\u001b[39;00m\n\u001b[1;32m----> 8\u001b[0m \u001b[38;5;28;01mexcept\u001b[39;00m \u001b[43mStaleElementReferenceException\u001b[49m :\n\u001b[0;32m      9\u001b[0m     \u001b[38;5;28;01mreturn\u001b[39;00m\n",
      "\u001b[1;31mNameError\u001b[0m: name 'StaleElementReferenceException' is not defined"
     ]
    }
   ],
   "source": [
    "options = EdgeOptions()\n",
    "options.use_chromium = True\n",
    "driver = Edge(options = options)\n",
    "driver.set_window_size(1080,800)\n",
    "driver.get(\"https://twitter.com/i/flow/login\")\n",
    "sleep(3)\n",
    "username = driver.find_element(\"xpath\",'//input[@name=\"text\"]')\n",
    "username.send_keys('mariemrecho@gmail.com')\n",
    "username.send_keys(Keys.RETURN)\n",
    "sleep(2)\n",
    "driver.find_element(\"xpath\",\"//input[@data-testid='ocfEnterTextTextInput']\").send_keys(\"recho_mariem\")\n",
    "driver.find_element(\"xpath\",\"//input[@data-testid='ocfEnterTextTextInput']\").send_keys(Keys.RETURN)\n",
    "sleep(2)\n",
    "password = driver.find_element(\"xpath\",\"//input[@name='password']\")\n",
    "password.send_keys(\"M@riem0603\")\n",
    "password.send_keys(Keys.RETURN)\n",
    "sleep(2)\n",
    "search = driver.find_element(\"xpath\",\"//input[@aria-label='Requête de recherche']\")\n",
    "search.send_keys('#WorldCup2022')\n",
    "search.send_keys(Keys.RETURN)\n",
    "sleep(2)\n",
    "#driver.find_element('link text','Récent').click()\n",
    "sleep(2)\n",
    "data = []\n",
    "tweet_ids=set()\n",
    "last_position = driver.execute_script(\"return window.pageYoffset;\")\n",
    "scrolling = True\n",
    "tweet_counter = 0\n",
    "while scrolling :\n",
    "    tweets = driver.find_elements(\"xpath\",'//article[@data-testid=\"tweet\"]')\n",
    "    tweet_counter += len(tweets)\n",
    "    for tweet in tweets :\n",
    "        sleep(3)\n",
    "        tweet_data = get_twitter_data(tweet)\n",
    "        if tweet_data:\n",
    "            tweet_id = ''.join([tweet_data[0],tweet_data[1],tweet_data[4],tweet_data[5]])\n",
    "            if tweet_id not in tweet_ids:\n",
    "                tweet_ids.add(tweet_id)\n",
    "                data.append(tweet_data)\n",
    "    \n",
    "    scroll_attempt = 0\n",
    "    driver.execute_script(\"window.scrollTo(0,document.body.scrollHeight);\")\n",
    "    if tweet_counter >= 100 :\n",
    "        scrolling = False\n",
    "        break\n",
    "        "
   ]
  },
  {
   "cell_type": "code",
   "execution_count": 328,
   "id": "9d68805b",
   "metadata": {},
   "outputs": [
    {
     "data": {
      "text/plain": [
       "75"
      ]
     },
     "execution_count": 328,
     "metadata": {},
     "output_type": "execute_result"
    }
   ],
   "source": [
    "len(data)"
   ]
  },
  {
   "cell_type": "code",
   "execution_count": 329,
   "id": "4a20ffc1",
   "metadata": {},
   "outputs": [
    {
     "data": {
      "text/plain": [
       "[['MM', '@Inspiroc', [], '175', '225', '20 k'],\n",
       " ['FIFA World Cup 2022 Final Talks',\n",
       "  '@plstreaminglive',\n",
       "  [],\n",
       "  '59',\n",
       "  '2 528',\n",
       "  '7 925'],\n",
       " ['domatapeko',\n",
       "  '@DomataPeko',\n",
       "  ['#Messi𓃵', '#WorldCup2022', '#Messi'],\n",
       "  '126',\n",
       "  '715',\n",
       "  '16,7 k'],\n",
       " ['FIFA World Cup 2022 Final Talks',\n",
       "  '@plstreaminglive',\n",
       "  [],\n",
       "  '64',\n",
       "  '2 105',\n",
       "  '5 892'],\n",
       " ['Troll Football', '@UKTrollFootball', [], '2', '24', '110'],\n",
       " ['Usain St. Leo Bolt',\n",
       "  '@usainbolt',\n",
       "  ['#ArgentinaVsFrance', '#WorldCup2022'],\n",
       "  '26',\n",
       "  '270',\n",
       "  '2 044'],\n",
       " ['FIFA World Cup',\n",
       "  '@FIFAWorldCup',\n",
       "  ['#FIFAWorldCup'],\n",
       "  '1 645',\n",
       "  '26,4 k',\n",
       "  '265 k'],\n",
       " ['BMS | Safou',\n",
       "  '@ImpulSionNeo',\n",
       "  ['#FIFAWorldCupQatar2022', '#WorldCup2022', '#FRAARG', '#FRA'],\n",
       "  '2',\n",
       "  '6',\n",
       "  '27'],\n",
       " ['FIFA World Cup 2022 Final Talks', '@plstreaminglive', [], '1', '14', '61'],\n",
       " ['Twins Fifa',\n",
       "  '@TwinsFifaHD',\n",
       "  ['#FRAARG', '#WorldCup2022'],\n",
       "  '9',\n",
       "  '19',\n",
       "  '252'],\n",
       " ['FIFA World Cup 2022 Final Talks', '@plstreaminglive', [], '', '9', '42'],\n",
       " ['Troll Football', '@UKTrollFootball', [], '2', '57', '170'],\n",
       " ['𝑆𝑚𝑜𝑙 𝑆ℎ𝑎𝑟𝑘𝑠',\n",
       "  '@SmolSharkAvax',\n",
       "  ['#avax',\n",
       "   '#AVAX',\n",
       "   '#AvaxNftRush',\n",
       "   '#AVAXNFT',\n",
       "   '#NFTs',\n",
       "   '#WorldCup2022',\n",
       "   '#WorldCup',\n",
       "   '#FrancevsArgentina'],\n",
       "  '11',\n",
       "  '9',\n",
       "  '25'],\n",
       " ['Jake',\n",
       "  '@bluebirds999',\n",
       "  ['#BBCWorldCup',\n",
       "   '#FifaWorldCup',\n",
       "   '#ArgentinaVsFrance',\n",
       "   '#Argentina',\n",
       "   '#Messi𓃵',\n",
       "   '#Mbappe',\n",
       "   '#WorldCup',\n",
       "   '#WorldCupFinal',\n",
       "   '#WorldCup2022',\n",
       "   '#FIFAWorldCup2022'],\n",
       "  '2',\n",
       "  '45',\n",
       "  '64'],\n",
       " ['Clementxw', '@clementwxee', ['#WorldCup2022'], '', '1', '4'],\n",
       " ['PrettyLittleThing', '@OfficialPLT', ['#WorldCup2022'], '2', '43', '245'],\n",
       " ['Faruk Koç', '@FarukKocTR', ['#worldcup2022'], '1', '110', '376'],\n",
       " ['GUYOT Vincent',\n",
       "  '@GuyotVincent02',\n",
       "  ['#AllezLesBleus', '#WorldCupFinal', '#WorldCup2022'],\n",
       "  '1',\n",
       "  '',\n",
       "  '17'],\n",
       " ['compiler',\n",
       "  '@omarelshiekhh',\n",
       "  ['#ArgentinaVsFrance', '#AllezLesBleus', '#WorldCup2022', '#WorldCupFinal'],\n",
       "  '10',\n",
       "  '17',\n",
       "  '79'],\n",
       " ['Bayu Arisandy', '@bayuarisandee', ['#FIFAWorldCup'], '', '7', '16'],\n",
       " ['M.Dentz', '@marijkedentz', ['#WorldCup2022', '#ARGFRA'], '1', '3', '6'],\n",
       " ['♛ ɪ ᴀ ᴍ ᴊ ᴀ ᴍ ♛', '@JAM2DBEAT', ['#WorldCup2022'], '', '', '5'],\n",
       " ['Forward Latino',\n",
       "  '@ForwardLatino',\n",
       "  ['#Argentina', '#WorldCup2022'],\n",
       "  '',\n",
       "  '1',\n",
       "  '1'],\n",
       " ['JeanPaulepanda',\n",
       "  '@JeanPaulepanda',\n",
       "  ['#Bleus', '#FRAARG', '#WorldCup', '#WorldCup2022', '#finale'],\n",
       "  '5',\n",
       "  '8',\n",
       "  '61'],\n",
       " ['France Diplomatie',\n",
       "  '@francediplo',\n",
       "  ['#WorldCup2022', '#FiersdetreBleus', '#Qatar2022'],\n",
       "  '5',\n",
       "  '24',\n",
       "  '83'],\n",
       " ['DIOS',\n",
       "  '@GodColombiano',\n",
       "  ['#WorldCup2022', '#ArgentinaVsFrance'],\n",
       "  '11',\n",
       "  '2',\n",
       "  '117'],\n",
       " ['Vamoya', '@_CoachM3_', ['#Qatar2022', '#WorldCup2022'], '', '', ''],\n",
       " ['Tokyo',\n",
       "  '@maltichki',\n",
       "  ['#Mbappé', '#FRAARG', '#WorldCup2022', '#CoupeDuMondeFIFA'],\n",
       "  '',\n",
       "  '',\n",
       "  '1'],\n",
       " ['nhung jr',\n",
       "  '@nhungjr',\n",
       "  ['#WorldCup2022', '#Argentina', '#Messi𓃵'],\n",
       "  '',\n",
       "  '1',\n",
       "  '1'],\n",
       " ['Infoot', '@_Infoot_', ['#WorldCup2022'], '', '', ''],\n",
       " ['Chris FCB',\n",
       "  '@Chriseden_FCB',\n",
       "  ['#ARGFRA',\n",
       "   '#ArgentinaVsFrance',\n",
       "   '#Argentina',\n",
       "   '#ArgentinaFrancia',\n",
       "   '#FIFAWorldCup',\n",
       "   '#FIFAInTheHouse',\n",
       "   '#WorldCupFinal',\n",
       "   '#WorldCup2022',\n",
       "   '#WorldCup',\n",
       "   '#FIFAWorldCupQatar2022',\n",
       "   '#FIFAWorldCup2022',\n",
       "   '#Mbappe𓃵',\n",
       "   '#Messi𓃵',\n",
       "   '#Messi𓃵day'],\n",
       "  '',\n",
       "  '',\n",
       "  ''],\n",
       " ['Lᴀʟʏ', '@raffffa1986', ['#CoupeDuMonde2022', '#WorldCup2022'], '', '', '1'],\n",
       " ['NOGUCHI, Soichi 野口\\u3000聡一（のぐち\\u3000そういち）',\n",
       "  '@Astro_Soichi',\n",
       "  ['#WorldCup2022'],\n",
       "  '4',\n",
       "  '51',\n",
       "  '826'],\n",
       " ['BashCFC',\n",
       "  '@kakury86',\n",
       "  ['#ArgentinaVsFrance', '#WorldCup2022'],\n",
       "  '2',\n",
       "  '',\n",
       "  '11'],\n",
       " ['Jungkook SNS', '@Jungkook_SNS', ['#FIFAWorldCup'], '10', '305', '803'],\n",
       " ['World Cup 2022', '@WorldCupEN', [], '2', '4', '27'],\n",
       " ['FutsHaber', '@FutsHaberr', ['#WorldCup2022'], '171', '131', '112'],\n",
       " ['P.L.V.O.T. Streaming', '@plvots', [], '5', '242', '212'],\n",
       " ['Jack Barrett', '@jackbarrettmufc', ['#WorldCup2022'], '2', '3', '35'],\n",
       " ['Sylvain RANCIEN',\n",
       "  '@srancien',\n",
       "  ['#WorldCup2022', '#ScienceAdvances'],\n",
       "  '',\n",
       "  '2',\n",
       "  '2'],\n",
       " ['Rawawisa',\n",
       "  '@rawawisa',\n",
       "  ['#WorldCupFinal', '#WorldCup2022', '#ฟุตบอลโลก2022', '#trueid'],\n",
       "  '',\n",
       "  '7',\n",
       "  '16'],\n",
       " ['azizah alharbi',\n",
       "  '@mangoo34890',\n",
       "  ['#FIFAWorldCup', '#Qatar2022', '#ARGFRA'],\n",
       "  '47',\n",
       "  '49',\n",
       "  '52'],\n",
       " [\"Aboubacry sow l'officiel\",\n",
       "  '@PrincePoulho',\n",
       "  ['#ArgentinaVsFrance',\n",
       "   '#FIFAWorldCup',\n",
       "   '#FIFAWorldCupQatar2022',\n",
       "   '#WorldCup2022',\n",
       "   '#Senegal',\n",
       "   '#kebetu',\n",
       "   '#dakar'],\n",
       "  '',\n",
       "  '1',\n",
       "  '5'],\n",
       " ['sory',\n",
       "  '@roroq140686',\n",
       "  ['#FIFAWorldCup', '#Qatar2022', '#ARGFRA'],\n",
       "  '28',\n",
       "  '113',\n",
       "  '132'],\n",
       " ['bookmaker.XYZ',\n",
       "  '@bookmakerxyz',\n",
       "  ['#WorldCup2022', '#gamblingtwitter'],\n",
       "  '113',\n",
       "  '332',\n",
       "  '349'],\n",
       " ['Auto-moto SportNet',\n",
       "  '@romefabrice62',\n",
       "  ['#WorldCup2022',\n",
       "   '#QatarWorldCup2022',\n",
       "   '#coupedumonde2022',\n",
       "   '#Qatar2022',\n",
       "   '#FIFAWorldCup'],\n",
       "  '',\n",
       "  '1',\n",
       "  '4'],\n",
       " ['P.L.V.O.T. Streaming', '@plvots', [], '3', '112', '199'],\n",
       " ['My name is R.....A',\n",
       "  '@saymon_back',\n",
       "  ['#LeoMessi', '#WorldCup2022'],\n",
       "  '',\n",
       "  '1',\n",
       "  '22'],\n",
       " ['CHLS', '@cehlos', ['#WorldCup2022'], '25', '4', '31'],\n",
       " ['Khairul Hafidz', '@khairul_hafidz', ['#WorldCup2022'], '44', '137', '234'],\n",
       " ['こすぢ ﾝ♡*ﾟ',\n",
       "  '@shineelove9210',\n",
       "  ['#FIFAWorldCup', '#Qatar2022', '#ARGFRA'],\n",
       "  '30',\n",
       "  '49',\n",
       "  '54'],\n",
       " ['Guardian sport', '@guardian_sport', ['#FIFAWorldCup'], '1', '5', '27'],\n",
       " ['Sumit Mehrotra',\n",
       "  '@SumitResearch',\n",
       "  ['#Goldengoal',\n",
       "   '#WorldCup',\n",
       "   '#WorldCupFinal',\n",
       "   '#WorldCup2022',\n",
       "   '#WorldcupQatar2022',\n",
       "   '#Messi𓃵'],\n",
       "  '6',\n",
       "  '15',\n",
       "  '87'],\n",
       " ['Nikki', '@NixJPayne', ['#WorldCup2022'], '1', '', '9'],\n",
       " ['Doxandëm', '@LeModerateur_sn', ['#WorldCup2022', '#Mbappé'], '', '', ''],\n",
       " ['Halimah Karimah Cham',\n",
       "  '@alkhnfreh21',\n",
       "  ['#FIFAWorldCup', '#Qatar2022', '#ARGFRA', '#كأس_العالم_2022'],\n",
       "  '47',\n",
       "  '111',\n",
       "  '114'],\n",
       " ['Anatolii Petrenko',\n",
       "  '@AmbUkraineKSA',\n",
       "  ['#WorldCup2022', '#WorldCupFinal', '#FrancevsArgentina'],\n",
       "  '',\n",
       "  '',\n",
       "  '4'],\n",
       " ['St Mirren FC', '@saintmirrenfc', ['#WorldCup2022'], '3', '19', '232'],\n",
       " ['Sourav 007007',\n",
       "  '@007007Sourav',\n",
       "  ['#FIFAWorldCup2022Final',\n",
       "   '#WorldCup',\n",
       "   '#WorldCupFinal',\n",
       "   '#FIFAWorldCup2022',\n",
       "   '#Qatar2022',\n",
       "   '#QatarWorldCup',\n",
       "   '#WorldCup2022'],\n",
       "  '',\n",
       "  '6',\n",
       "  '64'],\n",
       " ['ayman najaar',\n",
       "  '@aemoone111',\n",
       "  ['#FIFAWorldCup', '#Qatar2022', '#ARGFRA'],\n",
       "  '50',\n",
       "  '112',\n",
       "  '122'],\n",
       " ['Kappa', '@JesuisKappa', ['#WorldCup2022'], '', '1', '4'],\n",
       " ['Best Free Sports Streaming Sites', '@SylasSettle', [], '', '8', '15'],\n",
       " ['流石淳平',\n",
       "  '@ricecurry75',\n",
       "  ['#FIFAWorldCup', '#Qatar2022', '#ARGFRA'],\n",
       "  '30',\n",
       "  '48',\n",
       "  '50'],\n",
       " ['しょーやぁー',\n",
       "  '@pankd7537',\n",
       "  ['#FIFAWorldCup', '#Qatar2022', '#ARGFRA'],\n",
       "  '28',\n",
       "  '48',\n",
       "  '49'],\n",
       " [\"L'Homme Révolté Ph.D.\",\n",
       "  '@UnSisyphe',\n",
       "  ['#ARGFRA', '#WorldCup2022'],\n",
       "  '',\n",
       "  '3',\n",
       "  '3'],\n",
       " ['Best Free Sports Streaming Sites', '@SylasSettle', [], '', '4', '8'],\n",
       " ['T.H.E.O ᴮᵀ',\n",
       "  '@TheoSifuba',\n",
       "  ['#Messi', '#Argentina', '#WorldCup2022'],\n",
       "  '2',\n",
       "  '15',\n",
       "  '43'],\n",
       " ['Real Madrid CF FR',\n",
       "  '@RealMadridCFFR1',\n",
       "  ['#ARGFRA',\n",
       "   '#FRA',\n",
       "   '#France',\n",
       "   '#WorldCup2022',\n",
       "   '#QatarWorldCup2022',\n",
       "   '#Benzema',\n",
       "   '#FIFAWorldCup'],\n",
       "  '2',\n",
       "  '4',\n",
       "  '24'],\n",
       " ['مشاري راشد العفاسي',\n",
       "  '@Alafasy',\n",
       "  ['#ميسي',\n",
       "   '#قطر',\n",
       "   '#اليوم_الوطني_القطري',\n",
       "   '#يستاهل',\n",
       "   '#Messi𓃵',\n",
       "   '#الارجنتين_فرنسا',\n",
       "   '#نهائي_كأس_العالم',\n",
       "   '#فرنسا_الارجنتين',\n",
       "   '#WorldCup2022'],\n",
       "  '136',\n",
       "  '386',\n",
       "  '1 586'],\n",
       " ['มอมอจอนอ',\n",
       "  '@pqbyunbaek',\n",
       "  ['#ฟุตบอลโลก2022', '#สวัสดีบอลโลก'],\n",
       "  '',\n",
       "  '38',\n",
       "  '13'],\n",
       " ['World Cup 2022', '@gilbeima', [], '', '', '2'],\n",
       " ['bjjbsw',\n",
       "  '@LoOomy660',\n",
       "  ['#FIFAWorldCup', '#Qatar2022', '#ARGFRA'],\n",
       "  '34',\n",
       "  '105',\n",
       "  '116'],\n",
       " ['Nate for the Xmas World cup 2022', '@nathanielcorm', [], '', '', '2'],\n",
       " ['Burak Ates |', '@mrflyfiree', [], '', '', '2'],\n",
       " ['96zjky',\n",
       "  '@naifahmed1993',\n",
       "  ['#FIFAWorldCup', '#Qatar2022', '#ARGFRA'],\n",
       "  '45',\n",
       "  '109',\n",
       "  '140']]"
      ]
     },
     "execution_count": 329,
     "metadata": {},
     "output_type": "execute_result"
    }
   ],
   "source": [
    "data"
   ]
  },
  {
   "cell_type": "code",
   "execution_count": 339,
   "id": "b26b36a1",
   "metadata": {},
   "outputs": [],
   "source": [
    "with open(\"Twitter_WorldCup.csv\",\"w\",newline='',encoding = 'utf-8') as f :\n",
    "    header = [\"TwitterHandle\",\"Hashtags\",\"CommentsNumber\",\"RetweetsNumber\",\"LikesNumber\"]\n",
    "    writer = csv.writer(f)\n",
    "    writer.writerow(header)\n",
    "    writer.writerows(data)"
   ]
  },
  {
   "cell_type": "code",
   "execution_count": null,
   "id": "330f0fdd",
   "metadata": {},
   "outputs": [],
   "source": []
  }
 ],
 "metadata": {
  "kernelspec": {
   "display_name": "Python 3 (ipykernel)",
   "language": "python",
   "name": "python3"
  },
  "language_info": {
   "codemirror_mode": {
    "name": "ipython",
    "version": 3
   },
   "file_extension": ".py",
   "mimetype": "text/x-python",
   "name": "python",
   "nbconvert_exporter": "python",
   "pygments_lexer": "ipython3",
   "version": "3.9.12"
  }
 },
 "nbformat": 4,
 "nbformat_minor": 5
}
